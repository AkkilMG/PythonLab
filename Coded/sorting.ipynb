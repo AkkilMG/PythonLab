{
 "cells": [
  {
   "cell_type": "markdown",
   "metadata": {},
   "source": [
    "# Sorting"
   ]
  },
  {
   "cell_type": "markdown",
   "metadata": {},
   "source": [
    "## Bubble Sort"
   ]
  },
  {
   "cell_type": "code",
   "execution_count": 5,
   "metadata": {},
   "outputs": [
    {
     "name": "stdout",
     "output_type": "stream",
     "text": [
      "Unsorted array : 5 8 9 1\n",
      "Sorted array : 1 5 8 9\n"
     ]
    }
   ],
   "source": [
    "def bubbleSort(a, n):\n",
    "    if n == 1:\n",
    "        return\n",
    "    for i in range(n-1):\n",
    "        if a[i] > a[i+1]:\n",
    "            temp=a[i]\n",
    "            a[i]=a[i+1]\n",
    "            a[i+1]=temp\n",
    "    n-=1\n",
    "    bubbleSort(a, n)\n",
    "\n",
    "if __name__ == \"__main__\":\n",
    "    a = (input(\"Enter list: \")).split(' ')\n",
    "    print(\"Unsorted array : \"+\" \".join(map(str,a)))\n",
    "    bubbleSort(a, len(a))\n",
    "    print(\"Sorted array : \"+\" \".join(map(str,a)))"
   ]
  },
  {
   "cell_type": "markdown",
   "metadata": {},
   "source": [
    "## Linear Sort"
   ]
  },
  {
   "cell_type": "code",
   "execution_count": 2,
   "metadata": {},
   "outputs": [
    {
     "name": "stdout",
     "output_type": "stream",
     "text": [
      "Unsorted Array: 5 8 2 9\n",
      "Sorted array : 2 5 8 9\n"
     ]
    }
   ],
   "source": [
    "def linearSort(a, n):\n",
    "    if n <= 1:\n",
    "        return\n",
    "    linearSort(a, n - 1)\n",
    "    last = a[n - 1]\n",
    "    j = n - 2\n",
    "    while (j >= 0 and a[j] > last):\n",
    "        a[j + 1] = a[j]\n",
    "        j-=1\n",
    "    a[j + 1] = last\n",
    "\n",
    "if __name__ == \"__main__\":\n",
    "    a = (input(\"Enter list: \")).split(' ')\n",
    "    print(\"Unsorted Array: \"+\" \".join(map(str,a)))\n",
    "    linearSort(a, len(a))\n",
    "    print(\"Sorted array : \"+\" \".join(map(str,a)))"
   ]
  },
  {
   "cell_type": "markdown",
   "metadata": {},
   "source": [
    "## Selection Sort"
   ]
  },
  {
   "cell_type": "code",
   "execution_count": 1,
   "metadata": {},
   "outputs": [
    {
     "name": "stdout",
     "output_type": "stream",
     "text": [
      "Unsorted Array: 9 5 8 1\n",
      "Sorted array : 1 5 8 9\n"
     ]
    }
   ],
   "source": [
    "def selectionSort(a):\n",
    "    for i in range(len(a)):\n",
    "        j=i\n",
    "        for k in range(i+1, len(a)):\n",
    "            if a[k]<a[j]:\n",
    "                j=k\n",
    "        v = a[i]\n",
    "        a[i] = a[j]\n",
    "        a[j] = v\n",
    "if __name__ == \"__main__\":\n",
    "    a = (input(\"Enter the values: \")).split(' ')\n",
    "    print(\"Unsorted Array: \"+\" \".join(map(str,a)))\n",
    "    selectionSort(a)\n",
    "    print(\"Sorted array : \"+\" \".join(map(str,a)))"
   ]
  }
 ],
 "metadata": {
  "kernelspec": {
   "display_name": "Python 3",
   "language": "python",
   "name": "python3"
  },
  "language_info": {
   "codemirror_mode": {
    "name": "ipython",
    "version": 3
   },
   "file_extension": ".py",
   "mimetype": "text/x-python",
   "name": "python",
   "nbconvert_exporter": "python",
   "pygments_lexer": "ipython3",
   "version": "3.10.8"
  },
  "orig_nbformat": 4
 },
 "nbformat": 4,
 "nbformat_minor": 2
}
