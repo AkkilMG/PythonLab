{
 "cells": [
  {
   "cell_type": "markdown",
   "metadata": {},
   "source": [
    "# Search "
   ]
  },
  {
   "cell_type": "markdown",
   "metadata": {},
   "source": [
    "## Binary Search"
   ]
  },
  {
   "cell_type": "code",
   "execution_count": 1,
   "metadata": {},
   "outputs": [
    {
     "name": "stdout",
     "output_type": "stream",
     "text": [
      "Found the key.\n"
     ]
    }
   ],
   "source": [
    "def binarySearch(a, key, low, high):\n",
    "    \"\"\"\n",
    "    Enter list: 4 5 6 7\n",
    "    Enter key: 5\n",
    "    Found the key.\n",
    "    \"\"\"\n",
    "    if high >= low:\n",
    "        mid = int(low+(high-low)/2)\n",
    "        if int(a[mid]) == key:\n",
    "            print(\"Found the key.\")\n",
    "            return\n",
    "        elif int(a[mid]) > key:\n",
    "            return binarySearch(a, key, low, mid - 1)\n",
    "        return binarySearch(a, key, mid + 1, high)\n",
    "    print(\"Not found the key.\")\n",
    "\n",
    "\n",
    "if __name__ == \"__main__\":\n",
    "    a = (input(\"Enter list: \")).split(' ')\n",
    "    key = int(input(\"Enter key: \"))\n",
    "    binarySearch(a, key, 0, len(a)-1)"
   ]
  },
  {
   "cell_type": "markdown",
   "metadata": {},
   "source": [
    "## Sequential Search"
   ]
  },
  {
   "cell_type": "code",
   "execution_count": 4,
   "metadata": {},
   "outputs": [
    {
     "name": "stdout",
     "output_type": "stream",
     "text": [
      "Key found.\n"
     ]
    }
   ],
   "source": [
    "def search(a, key):\n",
    "    for i in a:\n",
    "        if i == key:\n",
    "            print(\"Key found.\")\n",
    "            return\n",
    "    print(\"Key not found.\")\n",
    "\n",
    "if __name__ == \"__main__\":\n",
    "    a = (input(\"Enter the element: \")).split(' ')\n",
    "    key = input(\"Enter the key: \")\n",
    "    search(a, key)"
   ]
  },
  {
   "cell_type": "markdown",
   "metadata": {},
   "source": [
    "## "
   ]
  }
 ],
 "metadata": {
  "kernelspec": {
   "display_name": "Python 3",
   "language": "python",
   "name": "python3"
  },
  "language_info": {
   "codemirror_mode": {
    "name": "ipython",
    "version": 3
   },
   "file_extension": ".py",
   "mimetype": "text/x-python",
   "name": "python",
   "nbconvert_exporter": "python",
   "pygments_lexer": "ipython3",
   "version": "3.10.8"
  },
  "orig_nbformat": 4
 },
 "nbformat": 4,
 "nbformat_minor": 2
}
