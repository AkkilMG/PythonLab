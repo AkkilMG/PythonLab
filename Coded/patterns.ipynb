{
 "cells": [
  {
   "cell_type": "code",
   "execution_count": 1,
   "metadata": {},
   "outputs": [
    {
     "name": "stdout",
     "output_type": "stream",
     "text": [
      "* * * * \n",
      " * * * \n",
      "  * * \n",
      "   * \n"
     ]
    }
   ],
   "source": [
    "def pattern(n):\n",
    "    for i in range(n):\n",
    "        print(f\"{' '*i}{'* '*(n-i)}\")\n",
    "\n",
    "if __name__ == \"__main__\":\n",
    "    pattern(int(input(\"Enter n: \")))"
   ]
  },
  {
   "cell_type": "code",
   "execution_count": 2,
   "metadata": {},
   "outputs": [
    {
     "name": "stdout",
     "output_type": "stream",
     "text": [
      "1 2 3 4 \n",
      "1 2 3 \n",
      "1 2 \n",
      "1 \n"
     ]
    }
   ],
   "source": [
    "def pattern(n):\n",
    "    for i in range(n):\n",
    "        for j in range(1, n+1-i):\n",
    "            print(f\"{j}\", end=\" \") \n",
    "        print()\n",
    "        \n",
    "if __name__ == \"__main__\":\n",
    "    pattern(int(input(\"Enter n: \")))"
   ]
  },
  {
   "cell_type": "code",
   "execution_count": 3,
   "metadata": {},
   "outputs": [
    {
     "name": "stdout",
     "output_type": "stream",
     "text": [
      "  * \n",
      " * * \n",
      "* * * \n",
      " * * \n",
      "  * \n"
     ]
    }
   ],
   "source": [
    "def pattern(n):\n",
    "    for i in range(n-1):\n",
    "        print(f\"{' '*(n-i-1)}{'* '*(i+1)}\")\n",
    "    for i in range(n):\n",
    "        print(f\"{' '*i}{'* '*(n-i)}\")\n",
    "\n",
    "if __name__ == \"__main__\":\n",
    "    pattern(int(input(\"Enter n: \")))"
   ]
  },
  {
   "cell_type": "code",
   "execution_count": 4,
   "metadata": {},
   "outputs": [
    {
     "name": "stdout",
     "output_type": "stream",
     "text": [
      "\n",
      "1\n",
      "1 2\n",
      "1 2 3\n",
      "1 2\n",
      "1\n"
     ]
    }
   ],
   "source": [
    "def pattern(n):\n",
    "    for i in range(n):\n",
    "        print(f\"{' '.join([str(j) for j in range(1, i+1)])}\")\n",
    "    for i in range(n):\n",
    "        print(f\"{' '.join([str(j) for j in range(1, n+1-i)])}\")\n",
    "        \n",
    "\n",
    "if __name__ == \"__main__\":\n",
    "    pattern(int(input(\"Enter n: \")))"
   ]
  },
  {
   "cell_type": "code",
   "execution_count": 5,
   "metadata": {},
   "outputs": [
    {
     "name": "stdout",
     "output_type": "stream",
     "text": [
      "       *\n",
      "     * *\n",
      "   * * *\n",
      " * * * *\n"
     ]
    }
   ],
   "source": [
    "def pattern(n):\n",
    "    for i in range(1, n+1):\n",
    "        print(f\"{'  '*(n-i)}{' *'*(i)}\")\n",
    "        \n",
    "if __name__ == \"__main__\":\n",
    "    pattern(int(input(\"Enter n: \")))"
   ]
  },
  {
   "cell_type": "code",
   "execution_count": 6,
   "metadata": {},
   "outputs": [
    {
     "name": "stdout",
     "output_type": "stream",
     "text": [
      "   * * * *\n",
      "     * * *\n",
      "       * *\n",
      "         *\n"
     ]
    }
   ],
   "source": [
    "def pattern(n):\n",
    "    for i in range(1, n+1):\n",
    "        print(f\"{'  '*(i)}{' *'*(n-i+1)}\")\n",
    "        \n",
    "if __name__ == \"__main__\":\n",
    "    pattern(int(input(\"Enter n: \")))"
   ]
  },
  {
   "cell_type": "code",
   "execution_count": 7,
   "metadata": {},
   "outputs": [
    {
     "name": "stdout",
     "output_type": "stream",
     "text": [
      " * * * * *\n",
      "  * * * * *\n",
      "   * * * * *\n",
      "    * * * * *\n"
     ]
    }
   ],
   "source": [
    "def pattern(n):\n",
    "    for i in range(n):\n",
    "        print(f\"{' '*(i)}{' *'*(n+1)}\")\n",
    "        \n",
    "if __name__ == \"__main__\":\n",
    "    pattern(int(input(\"Enter n: \")))"
   ]
  },
  {
   "cell_type": "code",
   "execution_count": 8,
   "metadata": {},
   "outputs": [
    {
     "name": "stdout",
     "output_type": "stream",
     "text": [
      "* * * \n",
      " * * \n",
      "  * \n",
      " * * \n",
      "* * * \n"
     ]
    }
   ],
   "source": [
    "def pattern(n):\n",
    "    for i in range(n):\n",
    "        print(f\"{' '*(i)}{'* '*(n-i)}\")\n",
    "    for i in range(1, n):\n",
    "        print(f\"{' '*(n-i-1)}{'* '*(i+1)}\")\n",
    "if __name__ == \"__main__\":\n",
    "    pattern(int(input(\"Enter n: \")))"
   ]
  },
  {
   "cell_type": "code",
   "execution_count": 9,
   "metadata": {},
   "outputs": [
    {
     "name": "stdout",
     "output_type": "stream",
     "text": [
      "\n",
      "1 \n",
      "2 3 \n",
      "4 5 6 \n",
      "7 8 9 10 \n"
     ]
    }
   ],
   "source": [
    "def pattern(n):\n",
    "    c = 0\n",
    "    for i in range(n+1):\n",
    "        for i in range(i):\n",
    "            c+=1\n",
    "            print(f\"{c} \", end=\"\")\n",
    "        print()\n",
    "if __name__ == \"__main__\":\n",
    "    pattern(int(input(\"Enter n: \")))"
   ]
  },
  {
   "cell_type": "code",
   "execution_count": 10,
   "metadata": {},
   "outputs": [
    {
     "name": "stdout",
     "output_type": "stream",
     "text": [
      "* * * * * \n",
      "*       * \n",
      "*       * \n",
      "*       * \n",
      "* * * * * \n"
     ]
    }
   ],
   "source": [
    "def pattern(n):\n",
    "    for i in range(1, n+1):\n",
    "        print(f\"{'* '*n if (i==1 or i==n) else ('* '+'  '*(n-2)+'* ')}\")\n",
    "if __name__ == \"__main__\":\n",
    "    pattern(int(input(\"Enter n: \")))"
   ]
  },
  {
   "cell_type": "code",
   "execution_count": 11,
   "metadata": {},
   "outputs": [
    {
     "name": "stdout",
     "output_type": "stream",
     "text": [
      "\n",
      "*  \n",
      "*  *  \n",
      "*  *  *  \n",
      "*  *  *  *  \n",
      "*  *  *  \n",
      "*  *  \n",
      "*  \n"
     ]
    }
   ],
   "source": [
    "def pattern(n):\n",
    "    for i in range (0,n+1):\n",
    "        print(\"*  \"*i)\n",
    "    for i in range (n-1,0,-1):\n",
    "        print(\"*  \"*i)\n",
    "\n",
    "if __name__ == \"__main__\":\n",
    "    pattern(int(input(\"Enter no. of rows: \")))"
   ]
  }
 ],
 "metadata": {
  "kernelspec": {
   "display_name": "Python 3",
   "language": "python",
   "name": "python3"
  },
  "language_info": {
   "codemirror_mode": {
    "name": "ipython",
    "version": 3
   },
   "file_extension": ".py",
   "mimetype": "text/x-python",
   "name": "python",
   "nbconvert_exporter": "python",
   "pygments_lexer": "ipython3",
   "version": "3.10.8"
  },
  "orig_nbformat": 4
 },
 "nbformat": 4,
 "nbformat_minor": 2
}
