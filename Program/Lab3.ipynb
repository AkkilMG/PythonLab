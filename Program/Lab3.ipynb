{
 "cells": [
  {
   "cell_type": "code",
   "execution_count": 1,
   "metadata": {},
   "outputs": [
    {
     "name": "stdout",
     "output_type": "stream",
     "text": [
      "Optimal Route: A -> B -> D -> E\n"
     ]
    }
   ],
   "source": [
    "import heapq\n",
    "\n",
    "def dijkstra(graph, start):\n",
    "    distances = {node: float('inf') for node in graph}\n",
    "    distances[start] = 0\n",
    "    heap = [(0, start)]\n",
    "\n",
    "    while heap:\n",
    "        current_dist, current_node = heapq.heappop(heap)\n",
    "        if current_dist > distances[current_node]:\n",
    "            continue\n",
    "        for neighbor, weight in graph[current_node].items():\n",
    "            distance = current_dist + weight\n",
    "            if distance < distances[neighbor]:\n",
    "                distances[neighbor] = distance\n",
    "                heapq.heappush(heap, (distance, neighbor))\n",
    "\n",
    "    return distances\n",
    "\n",
    "def find_optimal_route(graph, start, destination):\n",
    "    distances = dijkstra(graph, start)\n",
    "    if distances[destination] == float('inf'):\n",
    "        return None\n",
    "    route = []\n",
    "    node = destination\n",
    "    while node != start:\n",
    "        route.append(node)\n",
    "        neighbors = graph[node]\n",
    "        min_distance = float('inf')\n",
    "        next_node = None\n",
    "        for neighbor, weight in neighbors.items():\n",
    "            if distances[neighbor] + weight == distances[node] and distances[neighbor] < min_distance:\n",
    "                min_distance = distances[neighbor]\n",
    "                next_node = neighbor\n",
    "        if next_node is None or next_node in route:\n",
    "            return None\n",
    "        node = next_node\n",
    "\n",
    "    route.append(start)\n",
    "    route.reverse()\n",
    "    return route\n",
    "\n",
    "# Example usage\n",
    "graph = {\n",
    "    'A': {'B': 3, 'C': 99, 'D': 7, 'E': 99},\n",
    "    'B': {'A': 3, 'C': 4, 'D': 2, 'E': 99},\n",
    "    'C': {'A': 99, 'B': 4, 'D': 5, 'E': 6},\n",
    "    'D': {'A': 7, 'B': 2, 'C': 5, 'E': 4},\n",
    "    'E': {'A': 99, 'B': 99, 'C': 6, 'D': 4}\n",
    "}\n",
    "\n",
    "start_location = 'A'\n",
    "destination_location = 'E'\n",
    "\n",
    "optimal_route = find_optimal_route(graph, start_location, destination_location)\n",
    "\n",
    "if optimal_route is None:\n",
    "    print(\"No valid route exists from the start to the destination.\")\n",
    "else:\n",
    "    print(\"Optimal Route:\", ' -> '.join(optimal_route))"
   ]
  }
 ],
 "metadata": {
  "kernelspec": {
   "display_name": "Python 3",
   "language": "python",
   "name": "python3"
  },
  "language_info": {
   "codemirror_mode": {
    "name": "ipython",
    "version": 3
   },
   "file_extension": ".py",
   "mimetype": "text/x-python",
   "name": "python",
   "nbconvert_exporter": "python",
   "pygments_lexer": "ipython3",
   "version": "3.10.8"
  },
  "orig_nbformat": 4
 },
 "nbformat": 4,
 "nbformat_minor": 2
}
