{
 "cells": [
  {
   "cell_type": "code",
   "execution_count": 3,
   "metadata": {},
   "outputs": [
    {
     "name": "stdout",
     "output_type": "stream",
     "text": [
      "maximun profit:  70\n",
      "selected coffee beans (index):  [3, 1, 0]\n",
      "selected coffee beans (weights):  [5, 3, 2]\n",
      "selected coffee beans (costs):  [40, 20, 10]\n"
     ]
    }
   ],
   "source": [
    "def knapsack_max_profit(weights,costs,capacity):\n",
    "    num_items=len(weights)\n",
    "    table=[[0]*(capacity+1) for _ in range(num_items+1)]\n",
    "    for i in range(1,num_items+1):\n",
    "        for j in range(1,capacity+1):\n",
    "            if weights[i-1]<=j:\n",
    "                table[i][j] = max(costs[i-1]+table[i-1][j-weights[i-1]],table[i-1][j])  \n",
    "            else:\n",
    "                table[i][j]=table[i-1][j]\n",
    "\n",
    "    selected_items=[]\n",
    "    total_weight=capacity\n",
    "    for i in range(num_items,0,-1):\n",
    "        if table[i][total_weight]!=table[i-1][total_weight]:\n",
    "            selected_items.append(i-1)\n",
    "            total_weight-=weights[i-1]\n",
    "    return table[num_items][capacity],selected_items\n",
    "weights = [int(i) for i in input(\"Enter the weights of the items: \").split(' ')] # 2 3 4 5\n",
    "costs = [int(i) for i in input(\"Enter the costs of the items: \").split(' ')] # 10 20 30 40\n",
    "capacity = int(input(\"Enter the capacity of the knapsack: \")) # 10\n",
    "max_profit,selected_items=knapsack_max_profit(weights,costs,capacity)\n",
    "print(\"maximun profit: \",max_profit)\n",
    "print(\"selected coffee beans (index): \",selected_items)\n",
    "print(\"selected coffee beans (weights): \",[weights[i]for i in selected_items])\n",
    "print(\"selected coffee beans (costs): \",[costs[i]for i in selected_items])"
   ]
  },
  {
   "cell_type": "markdown",
   "metadata": {},
   "source": [
    "## OUTPUT\n",
    "\n",
    "```\n",
    "Enter the weights of the items: 2 3 4 5\n",
    "Enter the costs of the items: 10 20 30 40\n",
    "Enter the capacity of the knapsack: 10\n",
    "maximun profit:  70\n",
    "selected coffee beans (index):  [3, 1, 0]\n",
    "selected coffee beans (weights):  [5, 3, 2]\n",
    "selected coffee beans (costs):  [40, 20, 10]\n",
    "```"
   ]
  }
 ],
 "metadata": {
  "kernelspec": {
   "display_name": "Python 3",
   "language": "python",
   "name": "python3"
  },
  "language_info": {
   "codemirror_mode": {
    "name": "ipython",
    "version": 3
   },
   "file_extension": ".py",
   "mimetype": "text/x-python",
   "name": "python",
   "nbconvert_exporter": "python",
   "pygments_lexer": "ipython3",
   "version": "3.10.8"
  },
  "orig_nbformat": 4
 },
 "nbformat": 4,
 "nbformat_minor": 2
}
