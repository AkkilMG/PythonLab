{
 "cells": [
  {
   "cell_type": "markdown",
   "metadata": {},
   "source": [
    "# "
   ]
  },
  {
   "cell_type": "code",
   "execution_count": null,
   "metadata": {},
   "outputs": [],
   "source": [
    "# A Huffman Tree Node\n",
    "import heapq\n",
    "\n",
    "class node:\n",
    "    def __init__(self, freq, symbol, left=None, right=None):\n",
    "        self.freq = freq\n",
    "        self.symbol = symbol\n",
    "        self.left = left\n",
    "        self.right = right\n",
    "        self.huff = ''\n",
    "    def __lt__(self, nxt):\n",
    "        return self.freq < nxt.freq\n",
    "\n",
    "def printNodes(node, val=''):\n",
    "    newVal = val + str(node.huff)\n",
    "    print(node)\n",
    "    if node.left :\n",
    "        printNodes(node.left, newVal)\n",
    "    if(node.right):\n",
    "        printNodes(node.right,newVal)\n",
    "    if(not node.left and not node.right):\n",
    "        print(f\"{node.symbol} -> {newVal}\")\n",
    "\n",
    "# def encode(node: node, str):\n",
    "#     code = []\n",
    "#     for i in str:\n",
    "#         if node.symbol \n",
    "\n",
    "\n",
    "chars = input(\"\").split(' ') # a b c d e f g\n",
    "freq = [int(i) for i in input(\"\").split(' ')] # 10 15 12 3 4 13 1\n",
    "nodes = []\n",
    "\n",
    "for x in range(len(chars)):\n",
    "    heapq.heappush(nodes, node(freq[x], chars[x]))\n",
    "\n",
    "while len(nodes) > 1:\n",
    "    left = heapq.heappop(nodes)\n",
    "    right = heapq.heappop(nodes)\n",
    "    left.huff = 0\n",
    "    right.huff = 1\n",
    "    newNode = node(left.freq+right.freq, left.symbol+right.symbol, left, right)\n",
    "    heapq.heappush(nodes, newNode)\n",
    "\n",
    "printNodes(nodes[0])\n",
    "# encode(node[0], str(input(\"Enter the text for encoding: \")))\n",
    "\n",
    "\"\"\"output\n",
    "a b c d e f\n",
    "5 9 12 13 16 45\n",
    "f -> 0\n",
    "c -> 100\n",
    "d -> 101\n",
    "a -> 1100\n",
    "b -> 1101\n",
    "e -> 111\n",
    "\"\"\""
   ]
  }
 ],
 "metadata": {
  "language_info": {
   "name": "python"
  },
  "orig_nbformat": 4
 },
 "nbformat": 4,
 "nbformat_minor": 2
}
