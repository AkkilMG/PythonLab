{
 "cells": [
  {
   "cell_type": "code",
   "execution_count": 2,
   "metadata": {},
   "outputs": [
    {
     "name": "stdout",
     "output_type": "stream",
     "text": [
      ". . Q . \n",
      "Q . . . \n",
      ". . . Q \n",
      ". Q . . \n",
      "\n",
      ". Q . . \n",
      ". . . Q \n",
      "Q . . . \n",
      ". . Q . \n",
      "\n"
     ]
    }
   ],
   "source": [
    "def is_safe(board, row, col, N):\n",
    "    for i in range(col):\n",
    "        if board[row][i] == 1:\n",
    "            return False\n",
    "    i = row\n",
    "    j = col\n",
    "    while i >= 0 and j >= 0:\n",
    "        if board[i][j] == 1:\n",
    "            return False\n",
    "        i -= 1\n",
    "        j -= 1\n",
    "    i = row\n",
    "    j = col\n",
    "\n",
    "    while j >= 0 and i < N:\n",
    "        if board[i][j] == 1:\n",
    "            return False\n",
    "        i += 1\n",
    "        j -= 1\n",
    "    return True\n",
    "\n",
    "def solve_n_queen_until(board,col,N,solutions):\n",
    "    if col == N:\n",
    "        solution=[]\n",
    "        for i in range(N):\n",
    "            row=[]\n",
    "            for j in range(N):\n",
    "                row.append(board[i][j])\n",
    "            solution.append(row)\n",
    "        solutions.append(solution)\n",
    "        return \n",
    "    \n",
    "    for i in range(N):\n",
    "        if is_safe(board,i,col,N):\n",
    "            board[i][col]=1\n",
    "            solve_n_queen_until(board,col+1,N,solutions)\n",
    "            board[i][col]=0\n",
    "\n",
    "def solve_n_queen(N):\n",
    "    board = [[0] * N for _ in range (N)]\n",
    "    solutions=[]\n",
    "    solve_n_queen_until(board,0,N,solutions)\n",
    "    if len(solutions) == 0:\n",
    "        print(\" Not Possible \")\n",
    "    else:\n",
    "        for solution in solutions:\n",
    "            for row in solution:\n",
    "                for cell in row:\n",
    "                    print(\"Q\" if cell == 1 else \".\", end=\" \")\n",
    "                print()\n",
    "            print()\n",
    "\n",
    "N=int(input(\"Enter no of queens: \"))\n",
    "solve_n_queen(N)"
   ]
  },
  {
   "cell_type": "markdown",
   "metadata": {},
   "source": [
    "## Output\n",
    "\n",
    "```\n",
    "Enter no of queens: 4\n",
    ". . Q . \n",
    "Q . . . \n",
    ". . . Q \n",
    ". Q . . \n",
    "\n",
    ". Q . . \n",
    ". . . Q \n",
    "Q . . . \n",
    ". . Q . \n",
    "```"
   ]
  }
 ],
 "metadata": {
  "kernelspec": {
   "display_name": "Python 3",
   "language": "python",
   "name": "python3"
  },
  "language_info": {
   "codemirror_mode": {
    "name": "ipython",
    "version": 3
   },
   "file_extension": ".py",
   "mimetype": "text/x-python",
   "name": "python",
   "nbconvert_exporter": "python",
   "pygments_lexer": "ipython3",
   "version": "3.10.8"
  },
  "orig_nbformat": 4
 },
 "nbformat": 4,
 "nbformat_minor": 2
}
