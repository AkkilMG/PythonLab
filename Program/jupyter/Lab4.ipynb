{
 "cells": [
  {
   "cell_type": "code",
   "execution_count": 1,
   "metadata": {},
   "outputs": [
    {
     "name": "stdout",
     "output_type": "stream",
     "text": [
      "Enter the cost of electrification for each connection:\n",
      "Thermal Station   --   Connected to   -->   Thermal Station   Cost\n",
      "   1                    --                    0                 1\n",
      "   2                    --                    1                 2\n",
      "   3                    --                    4                 6\n",
      "   4                    --                    1                 3\n"
     ]
    },
    {
     "data": {
      "text/plain": [
       "'output\\nEnter the number of thermal power stations: 5\\nEnter the cost of electrification for each connection:\\nEnter the cost between thermal station 0 and 1: 1\\nEnter the cost between thermal station 0 and 2: 0\\nEnter the cost between thermal station 0 and 3: 7\\nEnter the cost between thermal station 0 and 4: 5\\nEnter the cost between thermal station 1 and 2: 2\\nEnter the cost between thermal station 1 and 3: 0\\nEnter the cost between thermal station 1 and 4: 3\\nEnter the cost between thermal station 2 and 3: 8\\nEnter the cost between thermal station 2 and 4: 4\\nEnter the cost between thermal station 3 and 4: 6\\nThermal Station   --   Connected to   -->   Thermal Station   Cost\\n   1                    --                    0                 1\\n   2                    --                    1                 2\\n   3                    --                    4                 6\\n   4                    --                    1                 3\\n'"
      ]
     },
     "execution_count": 1,
     "metadata": {},
     "output_type": "execute_result"
    }
   ],
   "source": [
    "import sys\n",
    "\n",
    "class Graph:\n",
    "    def __init__(self, vertices):\n",
    "        self.V = vertices\n",
    "        self.graph = [[0 for _ in range(vertices)] for _ in range(vertices)]\n",
    "    def add_edge(self, u, v, weight):\n",
    "        self.graph[u][v] = weight\n",
    "        self.graph[v][u] = weight\n",
    "    def print_mst(self, parent):\n",
    "        print(\"Thermal Station   --   Connected to   -->   Thermal Station   Cost\")\n",
    "        for i in range(1, self.V):\n",
    "            print(f\"   {i}                    --                    {parent[i]}                 {self.graph[i][parent[i]]}\")\n",
    "    def prim_mst(self):\n",
    "        key = [sys.maxsize] * self.V\n",
    "        parent = [None] * self.V\n",
    "        key[0] = 0\n",
    "        mst_set = [False] * self.V\n",
    "        parent[0] = -1\n",
    "        for _ in range(self.V):\n",
    "            min_key = sys.maxsize\n",
    "            min_index = 0\n",
    "            for v in range(self.V):\n",
    "                if key[v] < min_key and not mst_set[v]:\n",
    "                    min_key = key[v]\n",
    "                    min_index = v\n",
    "            mst_set[min_index] = True\n",
    "            for v in range(self.V):\n",
    "                if self.graph[min_index][v] > 0 and not mst_set[v] and self.graph[min_index][v] < key[v]:\n",
    "                    key[v] = self.graph[min_index][v]\n",
    "                    parent[v] = min_index\n",
    "        self.print_mst(parent)\n",
    "\n",
    "# Accepting user input\n",
    "n = int(input(\"Enter the number of thermal power stations: \"))\n",
    "g = Graph(n)\n",
    "\n",
    "print(\"Enter the cost of electrification for each connection:\")\n",
    "for i in range(n):\n",
    "    for j in range(i+1, n):\n",
    "        cost = int(input(f\"Enter the cost between thermal station {i} and {j}: \"))\n",
    "        g.add_edge(i, j, cost)\n",
    "\n",
    "# Compute and display the minimum cost connection\n",
    "g.prim_mst()"
   ]
  },
  {
   "cell_type": "markdown",
   "metadata": {},
   "source": [
    "## OUTPUT\n",
    "\n",
    "\n",
    "```\n",
    "Enter the number of thermal power stations: 5\n",
    "Enter the cost of electrification for each connection:\n",
    "Enter the cost between thermal station 0 and 1: 1\n",
    "Enter the cost between thermal station 0 and 2: 0\n",
    "Enter the cost between thermal station 0 and 3: 7\n",
    "Enter the cost between thermal station 0 and 4: 5\n",
    "Enter the cost between thermal station 1 and 2: 2\n",
    "Enter the cost between thermal station 1 and 3: 0\n",
    "Enter the cost between thermal station 1 and 4: 3\n",
    "Enter the cost between thermal station 2 and 3: 8\n",
    "Enter the cost between thermal station 2 and 4: 4\n",
    "Enter the cost between thermal station 3 and 4: 6\n",
    "Thermal Station   --   Connected to   -->   Thermal Station   Cost\n",
    "   1                    --                    0                 1\n",
    "   2                    --                    1                 2\n",
    "   3                    --                    4                 6\n",
    "   4                    --                    1                 3\n",
    "```"
   ]
  }
 ],
 "metadata": {
  "kernelspec": {
   "display_name": "Python 3",
   "language": "python",
   "name": "python3"
  },
  "language_info": {
   "codemirror_mode": {
    "name": "ipython",
    "version": 3
   },
   "file_extension": ".py",
   "mimetype": "text/x-python",
   "name": "python",
   "nbconvert_exporter": "python",
   "pygments_lexer": "ipython3",
   "version": "3.10.8"
  },
  "orig_nbformat": 4
 },
 "nbformat": 4,
 "nbformat_minor": 2
}
