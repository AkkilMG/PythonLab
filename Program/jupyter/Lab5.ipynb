{
 "cells": [
  {
   "cell_type": "markdown",
   "metadata": {},
   "source": [
    "# "
   ]
  },
  {
   "cell_type": "code",
   "execution_count": 1,
   "metadata": {},
   "outputs": [
    {
     "name": "stdout",
     "output_type": "stream",
     "text": [
      "c -> 00\n",
      "f -> 01\n",
      "b -> 10\n",
      "e -> 1100\n",
      "g -> 11010\n",
      "d -> 11011\n",
      "a -> 111\n",
      "Decoded text: egg\n",
      "Encoded binary text: 0111110\n"
     ]
    },
    {
     "data": {
      "text/plain": [
       "'\\na b c d e f g\\n10 15 12 3 4 13 1\\nc -> 00\\nf -> 01\\nb -> 10\\ne -> 1100\\ng -> 11010\\nd -> 11011\\na -> 111\\nEnter the decode text: 11001101011010\\nDecoded text: egg\\nEnter text to encode text: dad\\nEncoded binary text: 1101111111011\\n'"
      ]
     },
     "execution_count": 1,
     "metadata": {},
     "output_type": "execute_result"
    }
   ],
   "source": [
    "import heapq\n",
    "\n",
    "class Node:\n",
    "    def __init__(self, freq, symbol, left=None, right=None):\n",
    "        self.freq = freq\n",
    "        self.symbol = symbol\n",
    "        self.left = left\n",
    "        self.right = right\n",
    "        self.huff = ''\n",
    "\n",
    "    def __lt__(self, nxt):\n",
    "        return self.freq < nxt.freq\n",
    "\n",
    "def printNodes(node, val=''):\n",
    "    newVal = val + str(node.huff)\n",
    "    if node.left:\n",
    "        printNodes(node.left, newVal)\n",
    "    if node.right:\n",
    "        printNodes(node.right, newVal)\n",
    "    if not node.left and not node.right:\n",
    "        print(f\"{node.symbol} -> {newVal}\")\n",
    "def encode(text, huffman):\n",
    "    map = {}\n",
    "    def traverse_tree(node, code=''):\n",
    "        if node.left:\n",
    "            traverse_tree(node.left, code + '0')\n",
    "        if node.right:\n",
    "            traverse_tree(node.right, code + '1')\n",
    "        if not node.left and not node.right:\n",
    "            map[node.symbol] = code\n",
    "    traverse_tree(huffman)\n",
    "\n",
    "    encoded = ''\n",
    "    for char in text:\n",
    "        encoded += map[char]\n",
    "    return encoded\n",
    "\n",
    "def decode(encoded, huffman):\n",
    "    text = ''\n",
    "    current_node = huffman\n",
    "    for bit in encoded:\n",
    "        if bit == '0':\n",
    "            current_node = current_node.left\n",
    "        else:\n",
    "            current_node = current_node.right\n",
    "\n",
    "        if not current_node.left and not current_node.right:\n",
    "            text += current_node.symbol\n",
    "            current_node = huffman\n",
    "    return text\n",
    "\n",
    "chars = input(\"\").split(' ') # a b c d e f g\n",
    "freq = [int(i) for i in input(\"\").split(' ')]  # 10 15 12 3 4 13 1\n",
    "\n",
    "nodes = []\n",
    "\n",
    "for x in range(len(chars)):\n",
    "    heapq.heappush(nodes, Node(freq[x], chars[x]))\n",
    "\n",
    "while len(nodes) > 1:\n",
    "    left = heapq.heappop(nodes)\n",
    "    right = heapq.heappop(nodes)\n",
    "    left.huff = '0'\n",
    "    right.huff = '1'\n",
    "    new_node = Node(left.freq + right.freq, left.symbol + right.symbol, left, right)\n",
    "    heapq.heappush(nodes, new_node)\n",
    "printNodes(nodes[0])\n",
    "\n",
    "huffman_tree = nodes[0]\n",
    "\n",
    "decoded = decode(input(\"Enter the decode text: \"), huffman_tree)\n",
    "print(\"Decoded text:\", decoded)\n",
    "encoded = encode(input(\"Enter text to encode text: \"), huffman_tree)\n",
    "print(\"Encoded binary text:\", encoded)\n"
   ]
  },
  {
   "cell_type": "markdown",
   "metadata": {},
   "source": [
    "## OUTPUT\n",
    "\n",
    "```\n",
    "a b c d e f g\n",
    "10 15 12 3 4 13 1\n",
    "c -> 00\n",
    "f -> 01\n",
    "b -> 10\n",
    "e -> 1100\n",
    "g -> 11010\n",
    "d -> 11011\n",
    "a -> 111\n",
    "Enter the decode text: 11001101011010\n",
    "Decoded text: egg\n",
    "Enter text to encode text: dad\n",
    "Encoded binary text: 1101111111011\n",
    "```"
   ]
  }
 ],
 "metadata": {
  "kernelspec": {
   "display_name": "Python 3",
   "language": "python",
   "name": "python3"
  },
  "language_info": {
   "codemirror_mode": {
    "name": "ipython",
    "version": 3
   },
   "file_extension": ".py",
   "mimetype": "text/x-python",
   "name": "python",
   "nbconvert_exporter": "python",
   "pygments_lexer": "ipython3",
   "version": "3.10.8"
  },
  "orig_nbformat": 4
 },
 "nbformat": 4,
 "nbformat_minor": 2
}
