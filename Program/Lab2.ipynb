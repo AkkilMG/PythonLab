{
 "cells": [
  {
   "cell_type": "code",
   "execution_count": 3,
   "metadata": {},
   "outputs": [
    {
     "name": "stdout",
     "output_type": "stream",
     "text": [
      "The scheduled jobs are ['2', '1', '4']\n",
      "The total profit earned is 40\n"
     ]
    }
   ],
   "source": [
    "class Job:\n",
    "    def __init__(self, taskId, deadline, profit):\n",
    "        self.taskId = taskId\n",
    "        self.deadline = deadline\n",
    "        self.profit = profit\n",
    "\n",
    "def schedulejobs(jobs, T):\n",
    "    profit=0\n",
    "    slot=[-1]*T\n",
    "    jobs.sort(key=lambda x: x.profit, reverse=True)\n",
    "    for job in jobs:\n",
    "        for j in reversed(range(min(T, job.deadline))):\n",
    "            if slot[j]==-1:\n",
    "                slot[j]=job.taskId\n",
    "                profit += job.profit\n",
    "                break \n",
    "    print(\"The scheduled jobs are\",list(filter(lambda x: x !=-1,slot)))\n",
    "    print(\"The total profit earned is\",profit) \n",
    "\n",
    "if __name__ =='__main__':   \n",
    "    n = int(input(\"Enter the number of jobs: \"))\n",
    "    jobs = []\n",
    "    for i in range(n):\n",
    "        taskId = input(\"Enter task ID for job {}: \".format(i+1))\n",
    "        deadline = int(input(\"Enter deadline for job {}: \".format(i+1)))\n",
    "        profit = int(input(\"Enter profit for job {}: \".format(i+1)))\n",
    "        jobs.append(Job(taskId, deadline, profit))\n",
    "    T = int(input(\"Enter the total time: \"))\n",
    "    schedulejobs(jobs, T)"
   ]
  },
  {
   "cell_type": "markdown",
   "metadata": {},
   "source": [
    "## OUTPUT\n",
    "\n",
    "```\n",
    "Enter the number of jobs: 5\n",
    "Enter task ID for job 1: 1\n",
    "Enter deadline for job 1: 2\n",
    "Enter profit for job 1: 20\n",
    "Enter task ID for job 2: 2\n",
    "Enter deadline for job 2: 2\n",
    "Enter profit for job 2: 15\n",
    "Enter task ID for job 3: 3\n",
    "Enter deadline for job 3: 1\n",
    "Enter profit for job 3: 10\n",
    "Enter task ID for job 4: 4\n",
    "Enter deadline for job 4: 3\n",
    "Enter profit for job 4: 5\n",
    "Enter task ID for job 5: 5\n",
    "Enter deadline for job 5: 3\n",
    "Enter profit for job 5: 1\n",
    "Enter the total time: 5\n",
    "The scheduled jobs are ['2', '1', '4']\n",
    "The total profit earned is 40\n",
    "```"
   ]
  }
 ],
 "metadata": {
  "kernelspec": {
   "display_name": "Python 3",
   "language": "python",
   "name": "python3"
  },
  "language_info": {
   "codemirror_mode": {
    "name": "ipython",
    "version": 3
   },
   "file_extension": ".py",
   "mimetype": "text/x-python",
   "name": "python",
   "nbconvert_exporter": "python",
   "pygments_lexer": "ipython3",
   "version": "3.10.8"
  },
  "orig_nbformat": 4
 },
 "nbformat": 4,
 "nbformat_minor": 2
}
